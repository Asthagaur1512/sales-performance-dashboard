{
  "nbformat": 4,
  "nbformat_minor": 0,
  "metadata": {
    "colab": {
      "provenance": [],
      "toc_visible": true,
      "mount_file_id": "13J5IskGLE6JMp2IpH6vy4PxDixwf-oVq",
      "authorship_tag": "ABX9TyPaeF8uTFKJv2DM4ivamWEH",
      "include_colab_link": true
    },
    "kernelspec": {
      "name": "python3",
      "display_name": "Python 3"
    },
    "language_info": {
      "name": "python"
    }
  },
  "cells": [
    {
      "cell_type": "markdown",
      "metadata": {
        "id": "view-in-github",
        "colab_type": "text"
      },
      "source": [
        "<a href=\"https://colab.research.google.com/github/Asthagaur1512/sales-performance-dashboard/blob/main/clean_data_.ipynb\" target=\"_parent\"><img src=\"https://colab.research.google.com/assets/colab-badge.svg\" alt=\"Open In Colab\"/></a>"
      ]
    },
    {
      "cell_type": "code",
      "execution_count": null,
      "metadata": {
        "id": "O-mhpVzyFwcW"
      },
      "outputs": [],
      "source": []
    },
    {
      "cell_type": "code",
      "source": [
        "import pandas as pd\n",
        "df = pd.read_csv(\"/content/stationary_shop_sales.csv\")\n",
        "print(df.head())\n",
        "print(\"\\nDataset Info:\")\n",
        "print(df.info())\n",
        "print(\"\\nMissing values:\")\n",
        "print(df.isnull().sum())\n",
        "df = df.drop_duplicates()\n",
        "df[\"Total_Revenue\"] = df[\"Units_Sold\"] * df[\"Unit_Price\"]\n",
        "df.to_csv(\"sales_clean.csv\", index=False)\n",
        "print(\"✅ Cleaned data saved as sales.csv\")\n"
      ],
      "metadata": {
        "colab": {
          "base_uri": "https://localhost:8080/"
        },
        "id": "dgHKMYYPKWxd",
        "outputId": "5e9a5f4b-4743-4118-8eca-60e83c08dddb"
      },
      "execution_count": 5,
      "outputs": [
        {
          "output_type": "stream",
          "name": "stdout",
          "text": [
            "         Date              Product  Units_Sold  Unit_Price  Colour\n",
            "0  2025-07-01                  Pen          31           2    Blue\n",
            "1  2025-07-01             Notebook          27          20   Black\n",
            "2  2025-07-01               Eraser          24           3     Red\n",
            "3  2025-07-01       Coloured Sheet           7           8   Green\n",
            "4  2025-07-01  Decoration Material          30          15  Purple\n",
            "\n",
            "Dataset Info:\n",
            "<class 'pandas.core.frame.DataFrame'>\n",
            "RangeIndex: 315 entries, 0 to 314\n",
            "Data columns (total 5 columns):\n",
            " #   Column      Non-Null Count  Dtype \n",
            "---  ------      --------------  ----- \n",
            " 0   Date        315 non-null    object\n",
            " 1   Product     315 non-null    object\n",
            " 2   Units_Sold  315 non-null    int64 \n",
            " 3   Unit_Price  315 non-null    int64 \n",
            " 4   Colour      315 non-null    object\n",
            "dtypes: int64(2), object(3)\n",
            "memory usage: 12.4+ KB\n",
            "None\n",
            "\n",
            "Missing values:\n",
            "Date          0\n",
            "Product       0\n",
            "Units_Sold    0\n",
            "Unit_Price    0\n",
            "Colour        0\n",
            "dtype: int64\n",
            "✅ Cleaned data saved as sales.csv\n"
          ]
        }
      ]
    },
    {
      "cell_type": "markdown",
      "source": [
        "# New Section"
      ],
      "metadata": {
        "id": "RSYA7GqixZTD"
      }
    }
  ]
}